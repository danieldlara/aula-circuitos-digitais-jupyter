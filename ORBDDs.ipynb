{
 "cells": [
  {
   "cell_type": "code",
   "execution_count": 1,
   "metadata": {},
   "outputs": [],
   "source": [
    "from BDD import *\n",
    "\n",
    "a = BDD('a', ZERO, ONE)\n",
    "b = BDD('b', ZERO, ONE)\n",
    "\n",
    "c = a.land(b)\n",
    "d = a.lor(b)\n",
    "\n",
    "\n"
   ]
  },
  {
   "cell_type": "code",
   "execution_count": 42,
   "metadata": {},
   "outputs": [],
   "source": [
    "import pydot\n",
    "from IPython.display import Image\n",
    "\n",
    "def plotbdd(bdd):\n",
    "    G = pydot.Dot()\n",
    "    G.set_type(\"digraph\")\n",
    "    for (i, x) in bdd.nodes():\n",
    "        if x == 0:\n",
    "            G.add_node(pydot.Node(str(i), label=str(x), shape=\"rectangle\", color=\"red\"))\n",
    "        if x == 1:\n",
    "            G.add_node(pydot.Node(str(i), label=str(x), shape=\"rectangle\", color=\"blue\"))\n",
    "        else:\n",
    "            G.add_node(pydot.Node(str(i), label=str(x)))\n",
    "    \n",
    "    for (a,b) in bdd.posedges():\n",
    "        G.add_edge(pydot.Edge(str(a), str(b), color='blue'))\n",
    "    for (a,b) in bdd.negedges():\n",
    "        G.add_edge(pydot.Edge(str(a), str(b), color='red'))\n",
    "        \n",
    "    nodes = bdd.nodes()\n",
    "    nodes0 = [i for (i,x) in nodes if x == 0]\n",
    "    nodes1 = [i for (i,x) in nodes if x == 1]\n",
    "    nodes2 = [i for (i,x) in nodes if x != 0 and x != 1]\n",
    "#    G = nx.DiGraph()\n",
    "    #G.add_nodes_from(i for (i,x) in nodes)\n",
    "    #G.add_edges_from(bdd.negedges() + bdd.posedges())\n",
    "    \n",
    "    display(Image(G.create(prog='dot', format='png')))"
   ]
  },
  {
   "cell_type": "code",
   "execution_count": 43,
   "metadata": {},
   "outputs": [
    {
     "data": {
      "image/png": "[encoded data removed]",
      "text/plain": [
       "<IPython.core.display.Image object>"
      ]
     },
     "metadata": {},
     "output_type": "display_data"
    },
    {
     "data": {
      "text/plain": [
       "[(False, False, False),\n",
       " (False, True, False),\n",
       " (True, False, False),\n",
       " (True, True, True)]"
      ]
     },
     "execution_count": 43,
     "metadata": {},
     "output_type": "execute_result"
    }
   ],
   "source": [
    "plotbdd(c)\n",
    "\n",
    "def testC(a, b):\n",
    "    return (a and b)\n",
    "    \n",
    "[(a, b, testC(a,b)) for a in [False, True] for b in [False, True]]"
   ]
  },
  {
   "cell_type": "code",
   "execution_count": null,
   "metadata": {},
   "outputs": [],
   "source": [
    "plotbdd(d)\n",
    "\n",
    "def testD(a, b):\n",
    "    return (a and b)\n",
    "    \n",
    "[(a, b, testD(a,b)) for a in [False, True] for b in [False, True]]"
   ]
  },
  {
   "cell_type": "code",
   "execution_count": null,
   "metadata": {},
   "outputs": [],
   "source": [
    "e = d.land(c)\n",
    "plotbdd(e)\n",
    "\n",
    "def testE(a, b):\n",
    "    return (a and b) and (a or b)\n",
    "    \n",
    "[(a, b, testE(a,b)) for a in [False, True] for b in [False, True]]"
   ]
  },
  {
   "cell_type": "code",
   "execution_count": null,
   "metadata": {},
   "outputs": [],
   "source": [
    "plotbdd(e.simplify())"
   ]
  },
  {
   "cell_type": "code",
   "execution_count": null,
   "metadata": {},
   "outputs": [],
   "source": []
  }
 ],
 "metadata": {
  "kernelspec": {
   "display_name": "Python 3",
   "language": "python",
   "name": "python3"
  },
  "language_info": {
   "codemirror_mode": {
    "name": "ipython",
    "version": 3
   },
   "file_extension": ".py",
   "mimetype": "text/x-python",
   "name": "python",
   "nbconvert_exporter": "python",
   "pygments_lexer": "ipython3",
   "version": "3.7.0"
  }
 },
 "nbformat": 4,
 "nbformat_minor": 2
}
