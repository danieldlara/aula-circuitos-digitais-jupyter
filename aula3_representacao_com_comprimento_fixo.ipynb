{
 "cells": [
  {
   "cell_type": "markdown",
   "metadata": {},
   "source": [
    "# Representação com comprimento fixo\n",
    "\n",
    "Suponha agora que os números serão representados por vetores com comprimento fixo.\n",
    "\n",
    "\n",
    "## Quantos números é possível representar?\n",
    "\n",
    "\\begin{align} \n",
    "[d_n, d_{n-1}, ... , d_i, ... , d_1, d_0] &= \\sum_{i=0}^n d_i \\times 2^i \\\\\n",
    "&= d_n \\times 10^n + d_{n-1} \\times 10^{n-1} + \\ldots + d_i \\times 10^i + \\ldots + d_1 \\times 10^1 + d_0 \\times 10^0\n",
    " \\\\ \n",
    "\\end{align}\n",
    "\n",
    "\n",
    "Pelo princípio fundamental da contagem, considerando que cada $d_i$ tem 10 opções possíveis, e que $ 0 \\leq i \\leq n$, temos $10^{n+1}$ números possíveis a se representar.\n",
    "\n",
    "## Qual o maior número? \n",
    "\n",
    "Para saber o maior número, basta calcular o somatório. \n",
    "\n",
    "\\begin{align} \n",
    "[9, 9, ... , 9] &= 9 \\times 10^n + 9 \\times 10^{n-1} + \\ldots + 9 \\times 10^i + \\ldots + 9 \\times 10^1 + 9 \\times 10^0 \\\\ \n",
    "&= 9 \\times (10^n + 10^{n-1} + \\ldots + 10^i + \\ldots + 10^1 + 10^0) \\\\\n",
    "&= 9 \\times (11\\ldots1) \\\\\n",
    "&= 99\\ldots9 \\\\\n",
    "&= 100\\ldots0 - 1 \\\\\n",
    "&= 10^{n+1} - 1 \\\\\n",
    "\\end{align}\n",
    "\n",
    "Este conceito pode ser generalizado para qualquer base. Por exemplo, para a base binária, o maior número é:\n",
    "\n",
    "$$ 2^{n+1} - 1 $$\n",
    "\n",
    "Por exemplo, o maior número binário com 3 bits é 111.\n",
    "\n",
    "\\begin{align} \n",
    "[1, 1, 1] &= 1 \\times 2^2 + 1 \\times 2^{1} + 2 \\times 2^0 \\\\ \n",
    "&= 1 \\times (2^2 + 2^1 + 2^0) \\\\\n",
    "&= 7 \\\\\n",
    "&= 8 - 1 \\\\\n",
    "&= 2^3 - 1 \\\\\n",
    "\\end{align}"
   ]
  },
  {
   "cell_type": "code",
   "execution_count": 2,
   "metadata": {},
   "outputs": [
    {
     "name": "stdout",
     "output_type": "stream",
     "text": [
      "7\n"
     ]
    }
   ],
   "source": [
    "def maximo(base, digitos):\n",
    "    return base ** digitos - 1\n",
    "\n",
    "print(maximo(2, 3))"
   ]
  },
  {
   "cell_type": "markdown",
   "metadata": {},
   "source": [
    "# Overflow\n",
    "\n",
    "Para bases de comprimento fixo, definimos que o sucessor do maior elemento é 0.\n",
    "\n",
    "Isto é, os números com 3 dígitos binários, são: \n",
    "\n",
    "\\begin{align}\n",
    "000 + 1 &= 001 \\\\\n",
    "001 + 1 &= 010 \\\\\n",
    "010 + 1 &= 011 \\\\\n",
    "011 + 1 &= 100 \\\\\n",
    "100 + 1 &= 101 \\\\\n",
    "101 + 1 &= 110 \\\\\n",
    "110 + 1 &= 111 \\\\\n",
    "111 + 1 &= 000 \\\\\n",
    "\\end{align}\n",
    "\n",
    "É conveniente calcular isso usando o resto da divisão inteira."
   ]
  },
  {
   "cell_type": "code",
   "execution_count": 6,
   "metadata": {},
   "outputs": [
    {
     "name": "stdout",
     "output_type": "stream",
     "text": [
      "0 + 1 = 1\n",
      "1 + 1 = 2\n",
      "2 + 1 = 3\n",
      "3 + 1 = 4\n",
      "4 + 1 = 5\n",
      "5 + 1 = 6\n",
      "6 + 1 = 7\n",
      "7 + 1 = 0\n"
     ]
    }
   ],
   "source": [
    "for i in range(8):\n",
    "    r = (i+1) % 2**3\n",
    "    print(i, \"+ 1 =\", r)\n",
    "    "
   ]
  },
  {
   "cell_type": "code",
   "execution_count": null,
   "metadata": {},
   "outputs": [],
   "source": []
  }
 ],
 "metadata": {
  "kernelspec": {
   "display_name": "Python 3",
   "language": "python",
   "name": "python3"
  },
  "language_info": {
   "codemirror_mode": {
    "name": "ipython",
    "version": 3
   },
   "file_extension": ".py",
   "mimetype": "text/x-python",
   "name": "python",
   "nbconvert_exporter": "python",
   "pygments_lexer": "ipython3",
   "version": "3.6.6"
  }
 },
 "nbformat": 4,
 "nbformat_minor": 2
}
