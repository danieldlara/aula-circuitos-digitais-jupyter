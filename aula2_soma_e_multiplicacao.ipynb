{
 "cells": [
  {
   "cell_type": "markdown",
   "metadata": {},
   "source": [
    "# Refletindo sobre a soma e a multiplicação\n",
    "\n",
    "Na aula passada, para efetuarmos nossos cálculos, usamos 2 operações: a soma e a multiplicação.\n",
    "\n",
    "Neste momento, precisamos explicar como funcionam.\n",
    "\n",
    "## A soma\n",
    "\n",
    "No conjunto dos números naturais, a soma é uma operação definida a partir da operação do sucessor. \n",
    "\n",
    "$$ S(a) =\n",
    "  \\begin{cases}\n",
    "    1       & \\quad \\text{if } a = 0 \\\\\n",
    "    a+1     & \\quad \\text{otherwise}\n",
    "  \\end{cases}\n",
    "  $$\n",
    "\n",
    "\n",
    "A operação soma de $a+b$, significa aplicar a operação sucessor em $a$, $b$ vezes.\n",
    "\n",
    "$$ 2+2 = S(S(2)) $$\n",
    "\n",
    "Obviamente, a aplicação desta função é muito maçante. Por esse motivo, construímos tabelas:\n",
    "\n",
    "\\begin{align}\n",
    "0 + 0 &= 0 \\\\\n",
    "0 + 1 &= 1 \\\\\n",
    "1 + 0 &= 1 \\\\\n",
    "1 + 1 &= 10 \\\\\n",
    "10 + 0 &= 10 \\\\\n",
    "10 + 1 &= 11 \\\\\n",
    "\\ldots \\\\\n",
    "\\end{align}\n",
    "\n",
    "## A Multiplicação\n",
    "\n",
    "A multiplicação é definida através de várias somas.\n",
    "\n",
    "A operação multiplicação de $a \\times b$, significa aplicar a operação soma de $a$ com $a$, $b$ vezes.\n",
    "\n",
    "$$ 2 \\times 3 = 2 + 2 + 2 $$\n",
    "\n",
    "\n",
    "## Propriedades da Soma e da Multiplicação\n",
    "\n",
    "Sabemos que a soma e a multiplicação tem as seguintes propriedades: Ambas são comutativas e associativas e possum um elemento neutro. E juntas, a multiplicação distribui na soma.\n",
    "\n",
    "\\begin{align}\n",
    "a + b &= b + a \\\\\n",
    "a + 0 &= 0 + a = a \\\\\n",
    "a + (b + c) &= (a + b) + c  \\\\\n",
    "a \\times b &= b \\times a  \\\\\n",
    "a \\times 1 &= 1 \\times a  = a \\\\\n",
    "a \\times (b \\times c) &= a \\times (b \\times c) \\\\\n",
    "a \\times (b + c) &= a \\times b + b \\times c \\\\\n",
    "\\end{align}\n",
    "\n",
    "\n",
    "## Construindo um algoritmo para somar vetores de dígitos\n",
    "\n",
    "Entretanto, é incoveniente montar toda a tabela para todos os números. É interessante manter esta tabela pequena.\n",
    "\n",
    "Por este motivo, fazemos uso da definição da aula anterior.\n",
    "\n",
    "\\begin{align} \n",
    "[d_n, d_{n-1}, ... , d_i, ... , d_1, d_0] &= \\sum_{i=0}^n d_i \\times 2^i \\\\\n",
    "&= d_n \\times 10^n + d_{n-1} \\times 10^{n-1} + \\ldots + d_i \\times 10^i + \\ldots + d_1 \\times 10^1 + d_0 \\times 10^0\n",
    " \\\\ \n",
    "\\end{align}\n",
    "\n",
    "Por, exemplo, se queremos somar os números 1010 e 111:\n",
    "\n",
    "\\begin{align}\n",
    "[1, 0, 1, 0] + [1, 1, 1] &= 1 \\times 2^3 + 0 \\times 2^2 + 1 \\times 2^1 + 0 \\times 2^0 + 1 \\times 2^2 + 1 \\times 2^1 + 1 \\times 2^0 \\\\\n",
    "&= 1 \\times 2^3 + (0 + 1) \\times 2^2 + (1 + 1) \\times 2^1 + (0 + 1) \\times 2^0 \\\\\n",
    "[1, 1, 2, 1] &= 1 \\times 2^3 + 1 \\times 2^2 + 2 \\times 2^1 + 1 \\times 2^0 \\\\\n",
    "&= 1 \\times 2^3 + 1 \\times 2^2 + 1 \\times 2^2 + 1 \\times 2^0 \\\\\n",
    "&= 1 \\times 2^3 + 2 \\times 2^2 + 1 \\times 2^0 \\\\\n",
    "&= 1 \\times 2^3 + 1 \\times 2^3 + 1 \\times 2^0 \\\\\n",
    "&= 2 \\times 2^3 + 1 \\times 2^0 \\\\\n",
    "[1, 0, 0, 0, 1] &= 1 \\times 2^4 + 1 \\times 2^0 \\\\\n",
    "\\end{align}\n",
    "\n"
   ]
  },
  {
   "cell_type": "code",
   "execution_count": 1,
   "metadata": {},
   "outputs": [
    {
     "name": "stdout",
     "output_type": "stream",
     "text": [
      "10 + 7 = 17\n"
     ]
    }
   ],
   "source": [
    "def calcula(v, base):\n",
    "    if len(v) == 1:\n",
    "        return v[0]\n",
    "    else:\n",
    "        d = v.pop()\n",
    "        return  calcula(v, base) * base + d\n",
    "    \n",
    "aux1 = calcula([1, 0, 1, 0], 2)\n",
    "aux2 = calcula([1, 1, 1], 2)\n",
    "aux3 = calcula([1, 0, 0, 0, 1], 2)\n",
    "\n",
    "print(aux1, '+', aux2, '=', aux3)"
   ]
  },
  {
   "cell_type": "markdown",
   "metadata": {},
   "source": [
    "## O algoritmo da soma\n"
   ]
  },
  {
   "cell_type": "code",
   "execution_count": 11,
   "metadata": {},
   "outputs": [
    {
     "name": "stdout",
     "output_type": "stream",
     "text": [
      "somando cada posicao = \t [1, 1, 2, 1]\n"
     ]
    }
   ],
   "source": [
    "def soma(v1, v2):\n",
    "    v1.reverse()\n",
    "    v2.reverse()\n",
    "    \n",
    "    v3 = [0] * (max(len(v1), len(v2)))\n",
    "    \n",
    "    for i in  range(len(v1)):\n",
    "        v3[i] = v1[i]+ v3[i]\n",
    "    \n",
    "    for i in  range(len(v2)):\n",
    "        v3[i] = v1[i]+ v2[i]\n",
    "        \n",
    "    v3.reverse()\n",
    "    return v3\n",
    "\n",
    "res = soma([1, 0, 1, 0], [1, 1, 1])\n",
    "print(\"somando cada posicao = \\t\",res)"
   ]
  },
  {
   "cell_type": "code",
   "execution_count": 13,
   "metadata": {},
   "outputs": [
    {
     "name": "stdout",
     "output_type": "stream",
     "text": [
      "agrupando as bases = \t [1, 0, 0, 0, 1]\n"
     ]
    }
   ],
   "source": [
    "\n",
    "def transborda(x):\n",
    "    v = x.copy()\n",
    "    v.reverse()\n",
    "    for i in range(len(v)):\n",
    "        if i+1 >= len(v):\n",
    "            v.append(0)\n",
    "        v[i+1] += v[i] // 2 \n",
    "        v[i] = v[i] % 2 \n",
    "    v.reverse()\n",
    "    return v\n",
    "\n",
    "\n",
    "res2 = transborda(res)\n",
    "print(\"agrupando as bases = \\t\",res2)"
   ]
  },
  {
   "cell_type": "markdown",
   "metadata": {},
   "source": [
    "# Trabalho 1:\n",
    "\n",
    "Escreva o algoritmo para a multiplicação."
   ]
  },
  {
   "cell_type": "code",
   "execution_count": null,
   "metadata": {},
   "outputs": [],
   "source": []
  }
 ],
 "metadata": {
  "kernelspec": {
   "display_name": "Python 3",
   "language": "python",
   "name": "python3"
  },
  "language_info": {
   "codemirror_mode": {
    "name": "ipython",
    "version": 3
   },
   "file_extension": ".py",
   "mimetype": "text/x-python",
   "name": "python",
   "nbconvert_exporter": "python",
   "pygments_lexer": "ipython3",
   "version": "3.6.6"
  }
 },
 "nbformat": 4,
 "nbformat_minor": 2
}
