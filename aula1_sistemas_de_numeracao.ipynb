{
 "cells": [
  {
   "cell_type": "markdown",
   "metadata": {},
   "source": [
    "# Sistemas de Numeração: Sistema decimal: 10\n",
    "\n",
    "Os sistemas de numeração usados tradicionalmente consistem de vetores de dígitos.\n",
    "No sistema decimal, existem os números de um dígito: 0, 1, 2, 3, 4, 5, 6, 7, 8 e 9.\n",
    "\n",
    "Após estes números, nós começamos a combinar: 10, 11, 12, 13, 14, 15, 16, 17, 18, 19, 20.\n",
    "\n",
    "A principal propriedade que este sistema de numeração apresenta é resumida pela seguinte equação, onde cada $d_i$ é um dígito decimal.\n",
    "\n",
    "\\begin{align} \n",
    "[d_n, d_{n-1}, ... , d_i, ... , d_1, d_0] &= ((((d_n \\times 10) + d_{n-1}) \\times 10 + \\ldots ) \\times 10 + d_1) \\times 10 + d_0  \\\\\n",
    "&= d_n \\times 10^n + d_{n-1} \\times 10^{n-1} + \\ldots + d_i \\times 10^i + \\ldots + d_1 \\times 10^1 + d_0 \\times 10^0\n",
    " \\\\\n",
    "&= \\sum_{i=0}^n d_i \\times 10^i \\\\\n",
    "\\end{align}\n",
    "\n",
    "Por exemplo, o número 5678 pode ser escrito da seguinte forma:\n",
    "\n",
    "\\begin{align} [5, 6, 7, 8] &= ((((5 \\times 10) + 6) \\times 10) + 7) \\times 10 + 8  \\\\\n",
    "&= 5 \\times 10^3 + 6 \\times 10^2 + 7 \\times 10^1 + 8 \\times 10^0  \\\\\n",
    "\\end{align}\n"
   ]
  },
  {
   "cell_type": "code",
   "execution_count": 2,
   "metadata": {},
   "outputs": [
    {
     "name": "stdout",
     "output_type": "stream",
     "text": [
      "5678\n",
      "567\n"
     ]
    }
   ],
   "source": [
    "def calcula10(v):\n",
    "    if len(v) == 1:\n",
    "        return v[0]\n",
    "    else:\n",
    "        d = v.pop()\n",
    "        return  calcula10(v) * 10 + d\n",
    "    \n",
    "print(calcula10([5, 6, 7, 8]))\n",
    "print(calcula10([5, 6, 7]))"
   ]
  },
  {
   "cell_type": "markdown",
   "metadata": {},
   "source": [
    "# Base binária: 2\n",
    "\n",
    "Perceba que não existe nada especial no número 10. \n",
    "\n",
    "Qualquer número pode ser usado como base! Vamos testar com o número 2.\n",
    "\n",
    "$$((((d_n \\times 2) + d_{n-1}) \\times 2 + \\ldots ) \\times 2 + d_1) \\times 2 + d_0 = \\sum_{i=0}^n d_i \\times 2^i $$"
   ]
  },
  {
   "cell_type": "code",
   "execution_count": 11,
   "metadata": {},
   "outputs": [
    {
     "name": "stdout",
     "output_type": "stream",
     "text": [
      "decimal= 10 \t binário= 0b1010\n",
      "decimal= 6 \t binário= 0b110\n"
     ]
    }
   ],
   "source": [
    "def calcula(v, base):\n",
    "    if len(v) == 1:\n",
    "        return v[0]\n",
    "    else:\n",
    "        d = v.pop()\n",
    "        return  calcula(v, base) * base + d\n",
    "    \n",
    "aux1 = calcula([1, 0, 1, 0], 2)\n",
    "print(\"decimal=\", aux1, \"\\t binário=\", bin(aux1))\n",
    "\n",
    "aux2 = calcula([1, 1, 0], 2)\n",
    "print(\"decimal=\", aux2, \"\\t binário=\", bin(aux2))"
   ]
  },
  {
   "cell_type": "markdown",
   "metadata": {},
   "source": [
    "### Outras bases: Octal e Hexadecimal\n",
    "\n",
    "Além da base binária, existem outras duas bases que são comuns: a base octal (8) e a base hexadecimal (16).\n",
    "\n",
    "A base octal usa os dígitos de 0 até 7. \n",
    "\n",
    "A base hexadecimal usa os dígitos de 0 até F: 0, 1, 2, 3, 4, 5, 6, 7, 8, 9, A, B, C, D, E, F.\n",
    "\n",
    "Todas as equações anteriores funcionam, trocando apenas a base."
   ]
  },
  {
   "cell_type": "code",
   "execution_count": 10,
   "metadata": {},
   "outputs": [
    {
     "name": "stdout",
     "output_type": "stream",
     "text": [
      "decimal= 302 \t octal= 0o456\n",
      "decimal= 17767 \t hexadecimal= 0x4567\n"
     ]
    }
   ],
   "source": [
    "aux3 = calcula([4,5,6], 8)\n",
    "print(\"decimal=\", aux3, \"\\t octal=\", oct(aux3))\n",
    "\n",
    "aux4 = calcula([4,5,6,7], 16)\n",
    "print(\"decimal=\", aux4, \"\\t hexadecimal=\", hex(aux4))\n",
    "\n"
   ]
  },
  {
   "cell_type": "markdown",
   "metadata": {},
   "source": []
  }
 ],
 "metadata": {
  "kernelspec": {
   "display_name": "Python 3",
   "language": "python",
   "name": "python3"
  }
 },
 "nbformat": 4,
 "nbformat_minor": 2
}
