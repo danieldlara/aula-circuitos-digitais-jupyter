{
 "cells": [
  {
   "cell_type": "markdown",
   "metadata": {},
   "source": [
    "# Conversao entre bases\n",
    "\n",
    "Internamente, salvo rarissimas excecoes, o computador usa somente a base binaria. Entretanto, a base binaria e' muito incoveniente para o programador ou projetista. \n",
    "No dia a dia, estamos acostumados com a base decimal, mas outra base conventiente para usarmos e' a hexadecimal.\n",
    "A base hexadecimal permite trabalhar com numeros binarios muito grandes, de maneira intuitiva.\n",
    "\n",
    "Talvez o caso de uso mais comum da base hexadecimal no dia a dia sao os codigos de cores. Os codigos de cores\n",
    "sao numeros no formato hexadecimal. \n",
    "\n",
    "Exemplos:\n",
    "* <span style=\"border: 1px solid black;background-color:#ffffff;color:#ffffff;\">..........</span> #ffffff \n",
    "* <span style=\"border: 1px solid black;background-color:#000000;color:#000000;\">..........</span> #000000\n",
    "* <span style=\"border: 1px solid black;background-color:#ff0000;color:#ff0000;\">..........</span> #ff0000\n",
    "* <span style=\"border: 1px solid black;background-color:#00ff00;color:#00ff00;\">..........</span> #00ff00\n",
    "* <span style=\"border: 1px solid black;background-color:#0000ff;color:#0000ff;\">..........</span> #0000ff\n",
    "\n",
    "Estes numeros sao numeros de 24 bits. Cada letra representa 4 bits. E' possivel representar 16 valores diferentes com 4 bits."
   ]
  },
  {
   "cell_type": "code",
   "execution_count": 21,
   "metadata": {},
   "outputs": [
    {
     "name": "stdout",
     "output_type": "stream",
     "text": [
      "binario\t hexa\n",
      "0000 \t 0\n",
      "0001 \t 1\n",
      "0010 \t 2\n",
      "0011 \t 3\n",
      "0100 \t 4\n",
      "0101 \t 5\n",
      "0110 \t 6\n",
      "0111 \t 7\n",
      "1000 \t 8\n",
      "1001 \t 9\n",
      "1010 \t a\n",
      "1011 \t b\n",
      "1100 \t c\n",
      "1101 \t d\n",
      "1110 \t e\n",
      "1111 \t f\n"
     ]
    }
   ],
   "source": [
    "print(\"binario\\t hexa\")\n",
    "for i in range(16):\n",
    "    print('{0:04b} \\t {1:x}'.format(i, i))"
   ]
  },
  {
   "cell_type": "markdown",
   "metadata": {},
   "source": []
  },
  {
   "cell_type": "code",
   "execution_count": null,
   "metadata": {},
   "outputs": [],
   "source": []
  }
 ],
 "metadata": {
  "kernelspec": {
   "display_name": "Python 3",
   "language": "python",
   "name": "python3"
  },
  "language_info": {
   "codemirror_mode": {
    "name": "ipython",
    "version": 3
   },
   "file_extension": ".py",
   "mimetype": "text/x-python",
   "name": "python",
   "nbconvert_exporter": "python",
   "pygments_lexer": "ipython3",
   "version": "3.6.5"
  }
 },
 "nbformat": 4,
 "nbformat_minor": 2
}
