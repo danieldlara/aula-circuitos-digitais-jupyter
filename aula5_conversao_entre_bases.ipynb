{
 "cells": [
  {
   "cell_type": "markdown",
   "metadata": {},
   "source": [
    "# Conversão entre bases numéricas\n",
    "\n",
    "Internamente, salvo raríssimas excecoes, o computador usa somente a base binária. O motivo é que é muito mais fácil construir um computador usando uma base numérica binária. Por isso, dependemos da conversão entre bases.\n",
    "\n"
   ]
  },
  {
   "cell_type": "code",
   "execution_count": 11,
   "metadata": {},
   "outputs": [
    {
     "name": "stdout",
     "output_type": "stream",
     "text": [
      "binario\t hexa \t decimal\n",
      "0000 \t 0 \t 0\n",
      "0001 \t 1 \t 1\n",
      "0010 \t 2 \t 2\n",
      "0011 \t 3 \t 3\n",
      "0100 \t 4 \t 4\n",
      "0101 \t 5 \t 5\n",
      "0110 \t 6 \t 6\n",
      "0111 \t 7 \t 7\n",
      "1000 \t 8 \t 8\n",
      "1001 \t 9 \t 9\n",
      "1010 \t a \t 10\n",
      "1011 \t b \t 11\n",
      "1100 \t c \t 12\n",
      "1101 \t d \t 13\n",
      "1110 \t e \t 14\n",
      "1111 \t f \t 15\n"
     ]
    }
   ],
   "source": [
    "print(\"binario\\t hexa \\t decimal\")\n",
    "for i in range(16):\n",
    "    print('{0:04b} \\t {1:x} \\t {2:d}'.format(i, i, i))"
   ]
  },
  {
   "cell_type": "markdown",
   "metadata": {},
   "source": [
    "## Conversão de base binária para decimal\n",
    "\n",
    "Para converter entre bases, é importante lembrar da definição original.\n",
    "\n",
    "\\begin{align} \n",
    "[d_n, d_{n-1}, ... , d_i, ... , d_1, d_0] &= ((((d_n \\times 10) + d_{n-1}) \\times 10 + \\ldots ) \\times 10 + d_1) \\times 10 + d_0  \\\\\n",
    "&= d_n \\times 10^n + d_{n-1} \\times 10^{n-1} + \\ldots + d_i \\times 10^i + \\ldots + d_1 \\times 10^1 + d_0 \\times 10^0\n",
    " \\\\\n",
    "&= \\sum_{i=0}^n d_i \\times 10^i \\\\\n",
    "\\end{align}\n",
    "\n",
    "A partir da definição, basta substituir cada número da base original, para a base desejada.\n",
    "\n",
    "Por exemplo, para converter o número 101010 do binário para decimal:\n",
    "\n",
    "\\begin{align} \n",
    "[1, 0, 1 , 0] &= (((1 \\times 2) + 0) \\times 2 + 1) \\times 2 + 0  \\\\\n",
    "&= 1 \\times 2^3 + 0 \\times 2^2 + 1 \\times 2^1 + 0 \\times 2^0\n",
    " \\\\\n",
    "&= 10\n",
    "\\end{align}\n"
   ]
  },
  {
   "cell_type": "code",
   "execution_count": 4,
   "metadata": {},
   "outputs": [
    {
     "name": "stdout",
     "output_type": "stream",
     "text": [
      "10\n"
     ]
    }
   ],
   "source": [
    "print(1*2**3 + 0*2**2 + 1*2**1 + 0*2**0)"
   ]
  },
  {
   "cell_type": "markdown",
   "metadata": {},
   "source": [
    "## Conversão de base decimal para binária\n",
    "\n",
    "Como a definição não depende da base, o procedimento anterior funciona sempre, para qualquer base. Basta converter cada dígito para decimal na definição. A conversão de pequenos dígitos pode ser feita facilmente construindo uma tabela e enumerando os valores. Neste caso, podemos usar a tabela mostrada anteriormente.\n",
    "\n",
    "Por exemplo, converter o número 123 para decimal.\n",
    "\n",
    "\\begin{align} \n",
    "[1_d, 2_d, 3_d] &= ((1_d \\times 10_d) + 2_d) \\times 10_d + 3_d \\\\\n",
    "&= ((1_b \\times 1010_b) + 10_b) \\times 1010_b + 11_b \\\\\n",
    "&= (1010_b + 10_b) \\times 1010_b + 11_b \\\\\n",
    "&= 1100_b \\times 1010_b + 11_b \\\\\n",
    "&= 1111000_b + 11_b \\\\\n",
    "&= 1111011_b \\\\\n",
    "\\end{align}"
   ]
  },
  {
   "cell_type": "code",
   "execution_count": 10,
   "metadata": {},
   "outputs": [
    {
     "name": "stdout",
     "output_type": "stream",
     "text": [
      "123 0b1111011\n"
     ]
    }
   ],
   "source": [
    "print(123, bin(123))"
   ]
  },
  {
   "cell_type": "markdown",
   "metadata": {},
   "source": [
    "## Conversão entre bases múltiplas: binário e hexadecimal\n",
    "\n",
    "16 é múltiplo de 2. Isso pode ser usado para ajudar na conversão.\n",
    "\n",
    "\\begin{align} \n",
    "\\sum_{i=0}^n h_i \\times 16^i &= \\sum_{i=0}^n (b_i \\times 2^3 + b_i \\times 2^2 + b_i \\times 2^1 +b_i \\times 2^0) \\times 2^{4i} \\\\\n",
    "&= \\sum_{i=0}^n b_i \\times 2^{3+4i} + b_i \\times 2^{2+4i} + b_i \\times 2^{1+4i} +b_i \\times 2^{4i} \\\\\n",
    "\\end{align}\n",
    "\n",
    "Isto é, os dígitos binários podem ser agrupados de 4 em 4 para formar 1 dígito hexadecimal. Ou, cada dígito decimal, pode ser convertido diretamente para 4 dígitos binários.\n",
    "\n",
    "A base hexadecimal permite trabalhar com números binários muito grandes, de maneira intuitiva.\n",
    "\n",
    "Talvez o caso de uso mais comum da base hexadecimal no dia a dia são os códigos de cores. Os códigos de cores\n",
    "são números na base hexadecimal. \n",
    "\n",
    "Exemplos:\n",
    "* <span style=\"border: 1px solid black;background-color:#ffffff;color:#ffffff;\">..........</span> #ffffff \n",
    "* <span style=\"border: 1px solid black;background-color:#000000;color:#000000;\">..........</span> #000000\n",
    "* <span style=\"border: 1px solid black;background-color:#ff0000;color:#ff0000;\">..........</span> #ff0000\n",
    "* <span style=\"border: 1px solid black;background-color:#00ff00;color:#00ff00;\">..........</span> #00ff00\n",
    "* <span style=\"border: 1px solid black;background-color:#0000ff;color:#0000ff;\">..........</span> #0000ff\n",
    "\n",
    "Estes números são números de 24 bits. Cada letra representa 4 bits. É possivel representar 16 valores diferentes com 4 bits. \n",
    "\n",
    "No código de cor, são usadas 2 letras para cada cor. Ou seja, são 8 bits por cor, $2^8 =256$ tons de cada cor. os primerios 8 bits representam o vermelho, os próximos 8 representam o verde e os últimos 8 representam o azul. Com 24 bits é possível representar $ 2^{24} $  cores diferentes. Muito mais do que o olho humano pode diferenciar.\n",
    "\n",
    "# #<span style=\"color:red;\">ff</span><span style=\"color:green;\">ff</span><span style=\"color:blue;\">ff</span>\n"
   ]
  },
  {
   "cell_type": "code",
   "execution_count": null,
   "metadata": {},
   "outputs": [],
   "source": []
  }
 ],
 "metadata": {
  "kernelspec": {
   "display_name": "Python 3",
   "language": "python",
   "name": "python3"
  },
  "language_info": {
   "codemirror_mode": {
    "name": "ipython",
    "version": 3
   },
   "file_extension": ".py",
   "mimetype": "text/x-python",
   "name": "python",
   "nbconvert_exporter": "python",
   "pygments_lexer": "ipython3",
   "version": "3.6.6"
  }
 },
 "nbformat": 4,
 "nbformat_minor": 2
}
