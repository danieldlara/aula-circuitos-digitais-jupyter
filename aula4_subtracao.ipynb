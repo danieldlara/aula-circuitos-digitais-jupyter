{
 "cells": [
  {
   "cell_type": "markdown",
   "metadata": {},
   "source": [
    "# Subtração\n",
    "\n",
    "A subtração é definida a partir da adição. \n",
    "Na verdade, a subtraçao é feita a partir do elemento inverso da operação da soma.\n",
    "\n",
    "$$ a + x = 0  \\\\ a - a = 0 $$\n",
    "\n",
    "\n",
    "O elemento inverso de um elemento $a$ é $-a$, e é chamado de complemento de $a$."
   ]
  },
  {
   "cell_type": "code",
   "execution_count": null,
   "metadata": {},
   "outputs": [],
   "source": []
  }
 ],
 "metadata": {
  "kernelspec": {
   "display_name": "Python 3",
   "language": "python",
   "name": "python3"
  },
  "language_info": {
   "codemirror_mode": {
    "name": "ipython",
    "version": 3
   },
   "file_extension": ".py",
   "mimetype": "text/x-python",
   "name": "python",
   "nbconvert_exporter": "python",
   "pygments_lexer": "ipython3",
   "version": "3.6.6"
  }
 },
 "nbformat": 4,
 "nbformat_minor": 2
}
