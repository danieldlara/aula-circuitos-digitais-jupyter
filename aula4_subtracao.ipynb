{
 "cells": [
  {
   "cell_type": "markdown",
   "metadata": {},
   "source": [
    "# Subtração\n",
    "\n",
    "A subtração é definida a partir da adição. \n",
    "Na verdade, a subtraçao é feita a partir do elemento inverso da operação da soma.\n",
    "\n",
    "$$ a + x = 0  \\\\ a - a = 0 $$\n",
    "\n",
    "\n",
    "O elemento inverso de um elemento $a$ é $-a$, e é chamado de complemento de $a$.\n",
    "\n",
    "A partir dos complementos é fácil definir a subtração:\n",
    "\n",
    "$$ b - a = b + (-a)$$\n",
    "\n",
    "Em circuitos digitais é muito, muito mais fácil calcular o complemento do que realizar a subtração.\n",
    "Por este motivo, ao invés de realizar a subtração, realizamos a soma com o complemento.\n",
    "\n",
    "## Calculando o complemento de um número\n",
    "\n",
    "\n",
    "Seja o númeror 456, com 3 dígitos. Calculemos o complemento, usando a definição anterior:\n",
    "\n",
    "\\begin{align}\n",
    "456 + x &= 0 \\\\\n",
    "456 + x &= 999 + 1 \\\\\n",
    "x &= 999 - 456 + 1 \\\\\n",
    "x &= 543 + 1 \\\\\n",
    "x & = 544 \\\\\n",
    "\\end{align}\n",
    "\n",
    "Entre outras palavras, usando base 10, com 3 dígitos:\n",
    "\n",
    "$$ -456 = 544 $$"
   ]
  },
  {
   "cell_type": "code",
   "execution_count": 3,
   "metadata": {},
   "outputs": [
    {
     "name": "stdout",
     "output_type": "stream",
     "text": [
      "456 + 544 = 0\n"
     ]
    }
   ],
   "source": [
    "a = 456\n",
    "x = 999 - a + 1\n",
    "r = (a + x) % 1000\n",
    "print(a, '+', x, '=', r)"
   ]
  },
  {
   "cell_type": "markdown",
   "metadata": {},
   "source": [
    "Este algoritmo é mais fácil de implementar, porque sempre só será subtraído um numero menor de um número maior."
   ]
  },
  {
   "cell_type": "markdown",
   "metadata": {},
   "source": [
    "## Generalizando\n",
    "\n",
    "Seja $D = [d_n, d_{n-1}, \\ldots, d_i, \\ldots, d_1, d_0]$, \n",
    "\n",
    "$$ -D = [9, 9, \\ldots, 9] - [d_n, d_{n-1}, \\ldots, d_i, \\ldots, d_1, d_0] + [0,0,\\ldots, 1]  $$"
   ]
  },
  {
   "cell_type": "code",
   "execution_count": 28,
   "metadata": {},
   "outputs": [
    {
     "name": "stdout",
     "output_type": "stream",
     "text": [
      "a= [0, 0, 0] \t -a= [0, 0, 0]\n",
      "a= [0, 0, 1] \t -a= [1, 1, 1]\n",
      "a= [0, 1, 0] \t -a= [1, 1, 0]\n",
      "a= [0, 1, 1] \t -a= [1, 0, 1]\n",
      "a= [1, 0, 0] \t -a= [1, 0, 0]\n",
      "a= [1, 0, 1] \t -a= [0, 1, 1]\n",
      "a= [1, 1, 0] \t -a= [0, 1, 0]\n",
      "a= [1, 1, 1] \t -a= [0, 0, 1]\n"
     ]
    }
   ],
   "source": [
    "def subtrai_simples(vb, va):\n",
    "    vr = [0] * len(vb)\n",
    "    for i in range(len(vr)):\n",
    "        vr[i] = vb[i] - va[i]\n",
    "    return vr\n",
    "        \n",
    "def soma(va, vb):\n",
    "    \n",
    "    vc = [0] * len(va)\n",
    "    \n",
    "    for i in  range(len(vc)):\n",
    "        vc[i] = va[i] + vb[i]\n",
    "    \n",
    "    vc.reverse()\n",
    "    for i in  range(0, len(vc)):\n",
    "        if i+1 < len(vc):\n",
    "            vc[i+1] += vc[i] // 2\n",
    "        vc[i] = vc[i] % 2\n",
    "             \n",
    "    vc.reverse()\n",
    "    return vc\n",
    "    \n",
    "def complemento(va):\n",
    "    one = [0] * (len(va) -1)\n",
    "    one.append(1)\n",
    "    \n",
    "    twos = [1] * len(va)\n",
    "    \n",
    "    simples = subtrai_simples(twos, va)\n",
    "    \n",
    "    return soma(simples, one)\n",
    "    \n",
    "nums = [[0,0,0], [0,0,1], [0,1,0], [0,1,1], [1,0,0], [1,0,1], [1,1,0], [1,1,1]]\n",
    "\n",
    "for a in nums:\n",
    "    print(\"a=\", a, \"\\t -a=\", complemento(a) )\n",
    "\n",
    "#for a in nums:\n",
    "#    for b in nums:\n",
    "#        print(a, '+', b, '=', soma(a, b))\n",
    "    \n",
    "    "
   ]
  },
  {
   "cell_type": "markdown",
   "metadata": {},
   "source": [
    "Desta maneira, a subtração pode ser realizada:"
   ]
  },
  {
   "cell_type": "code",
   "execution_count": null,
   "metadata": {},
   "outputs": [],
   "source": [
    "def subtrai(vb, va):\n",
    "    return soma(vb, complemento(va))\n",
    "\n",
    "\n",
    "a = [0,1,0]\n",
    "b = [1,0,0]\n",
    "print(a)"
   ]
  },
  {
   "cell_type": "code",
   "execution_count": null,
   "metadata": {},
   "outputs": [],
   "source": []
  }
 ],
 "metadata": {
  "kernelspec": {
   "display_name": "Python 3",
   "language": "python",
   "name": "python3"
  },
  "language_info": {
   "codemirror_mode": {
    "name": "ipython",
    "version": 3
   },
   "file_extension": ".py",
   "mimetype": "text/x-python",
   "name": "python",
   "nbconvert_exporter": "python",
   "pygments_lexer": "ipython3",
   "version": "3.6.6"
  }
 },
 "nbformat": 4,
 "nbformat_minor": 2
}
